{
 "cells": [
  {
   "cell_type": "code",
   "execution_count": 1,
   "metadata": {},
   "outputs": [
    {
     "name": "stderr",
     "output_type": "stream",
     "text": [
      "c:\\Users\\pgran\\larnd-sim\\.venv\\lib\\site-packages\\tqdm\\auto.py:22: TqdmWarning: IProgress not found. Please update jupyter and ipywidgets. See https://ipywidgets.readthedocs.io/en/stable/user_install.html\n",
      "  from .autonotebook import tqdm as notebook_tqdm\n"
     ]
    }
   ],
   "source": [
    "%load_ext autoreload\n",
    "%autoreload 2\n",
    "from larndsim.pixels_from_track_ep import pixels_from_track\n",
    "from optimize.dataio import torch_from_structured\n",
    "from larndsim.consts_ep import consts"
   ]
  },
  {
   "cell_type": "code",
   "execution_count": 5,
   "metadata": {},
   "outputs": [
    {
     "name": "stdout",
     "output_type": "stream",
     "text": [
      "[[[-31.039    31.039  ]\n",
      "  [-83.8626   40.2154 ]\n",
      "  [-30.431    -0.15875]]\n",
      "\n",
      " [[-31.039    31.039  ]\n",
      "  [-83.8626   40.2154 ]\n",
      "  [ 30.431     0.15875]]]\n"
     ]
    }
   ],
   "source": [
    "import h5py\n",
    "import numpy as np\n",
    "\n",
    "with h5py.File('./examples/edepsim_1M.h5', 'r') as f:\n",
    "    tracks = np.array(f['segments'])\n",
    "\n",
    "tracks = tracks[:100]\n",
    "\n",
    "fields = tracks.dtype.names\n",
    "tracks = torch_from_structured(tracks)\n",
    "\n",
    "# c = consts()\n",
    "\n",
    "# c.load_detector_properties(\"larndsim/detector_properties/module0.yaml\", \"larndsim/pixel_layouts/multi_tile_layout-2.2.16.yaml\")\n",
    "\n",
    "pix = pixels_from_track()\n",
    "pix.load_detector_properties(\"larndsim/detector_properties/module0.yaml\", \"larndsim/pixel_layouts/multi_tile_layout-2.2.16.yaml\")\n",
    "active, neigh, npixels = pix.get_pixels(tracks, fields)"
   ]
  },
  {
   "cell_type": "code",
   "execution_count": 18,
   "metadata": {},
   "outputs": [
    {
     "name": "stdout",
     "output_type": "stream",
     "text": [
      "torch.Size([100, 43, 2])\n",
      "torch.Size([100, 0, 2])\n",
      "[17, 9, 12, 12, 9, 9, 9, 9, 25, 9, 54, 25, 9, 30, 28, 9, 9, 9, 9, 9, 9, 12, 9, 9, 9, 9, 9, 15, 17, 9, 12, 12, 9, 15, 9, 9, 9, 9, 9, 9, 9, 9, 14, 12, 12, 9, 15, 12, 9, 12, 9, 9, 9, 9, 9, 9, 9, 9, 9, 9, 9, 9, 9, 9, 9, 9, 9, 9, 9, 9, 9, 9, 9, 14, 9, 9, 9, 9, 9, 12, 9, 9, 9, 9, 9, 9, 9, 9, 9, 9, 9, 9, 12, 17, 9, 12, 15, 14, 17, 9]\n",
      "100\n",
      "tensor([], size=(0, 2), dtype=torch.int64)\n",
      "[17, 9, 12, 12, 9, 9, 9, 9, 25, 9, 54, 25, 9, 30, 28, 9, 9, 9, 9, 9, 9, 12, 9, 9, 9, 9, 9, 15, 17, 9, 12, 12, 9, 15, 9, 9, 9, 9, 9, 9, 9, 9, 14, 12, 12, 9, 15, 12, 9, 12, 9, 9, 9, 9, 9, 9, 9, 9, 9, 9, 9, 9, 9, 9, 9, 9, 9, 9, 9, 9, 9, 9, 9, 14, 9, 9, 9, 9, 9, 12, 9, 9, 9, 9, 9, 9, 9, 9, 9, 9, 9, 9, 12, 17, 9, 12, 15, 14, 17, 9]\n",
      "100\n",
      "tensor([[ 80, 223],\n",
      "        [ 81, 223],\n",
      "        [ 82, 222],\n",
      "        [ -1,  -1],\n",
      "        [ -1,  -1],\n",
      "        [ -1,  -1],\n",
      "        [ -1,  -1],\n",
      "        [ -1,  -1],\n",
      "        [ -1,  -1],\n",
      "        [ -1,  -1],\n",
      "        [ -1,  -1],\n",
      "        [ -1,  -1],\n",
      "        [ -1,  -1],\n",
      "        [ -1,  -1],\n",
      "        [ -1,  -1],\n",
      "        [ -1,  -1],\n",
      "        [ -1,  -1],\n",
      "        [ -1,  -1],\n",
      "        [ -1,  -1],\n",
      "        [ -1,  -1],\n",
      "        [ -1,  -1],\n",
      "        [ -1,  -1],\n",
      "        [ -1,  -1],\n",
      "        [ -1,  -1],\n",
      "        [ -1,  -1],\n",
      "        [ -1,  -1],\n",
      "        [ -1,  -1],\n",
      "        [ -1,  -1],\n",
      "        [ -1,  -1],\n",
      "        [ -1,  -1],\n",
      "        [ -1,  -1],\n",
      "        [ -1,  -1],\n",
      "        [ -1,  -1],\n",
      "        [ -1,  -1],\n",
      "        [ -1,  -1],\n",
      "        [ -1,  -1],\n",
      "        [ -1,  -1],\n",
      "        [ -1,  -1],\n",
      "        [ -1,  -1],\n",
      "        [ -1,  -1],\n",
      "        [ -1,  -1],\n",
      "        [ -1,  -1],\n",
      "        [ -1,  -1]])\n"
     ]
    }
   ],
   "source": [
    "print(active.size())\n",
    "print(neigh.size())\n",
    "print(npixels)\n",
    "print(len(npixels))\n",
    "\n",
    "print(neigh[0])\n",
    "print(npixels)\n",
    "print(len(npixels))\n",
    "\n",
    "print(active[0])"
   ]
  }
 ],
 "metadata": {
  "kernelspec": {
   "display_name": ".venv",
   "language": "python",
   "name": "python3"
  },
  "language_info": {
   "codemirror_mode": {
    "name": "ipython",
    "version": 3
   },
   "file_extension": ".py",
   "mimetype": "text/x-python",
   "name": "python",
   "nbconvert_exporter": "python",
   "pygments_lexer": "ipython3",
   "version": "3.9.13"
  },
  "orig_nbformat": 4,
  "vscode": {
   "interpreter": {
    "hash": "2fa7b136d59e450c21966a866d7e609aab2baf540763595a6b73e8591e2d7636"
   }
  }
 },
 "nbformat": 4,
 "nbformat_minor": 2
}
